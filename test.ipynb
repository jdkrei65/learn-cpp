{
 "cells": [
  {
   "cell_type": "markdown",
   "metadata": {},
   "source": [
    "# Learn C++\n",
    "Learn c++ by completing mini-projects.\n",
    "\n",
    "This guide contains curriculum & examples (not stand alone lessons) useful for teaching c++.\n",
    "In depth explanations and troubleshooting help should be included alongside this guide.\n",
    "\n",
    "**Teach Alongside**\n",
    "- \"Teach alongside\" sections list concepts that should be included or explained alongside the main project.\n",
    "- Items have `+` marks indicating how important they are at that stage of the project\n",
    "- (+++) Three mark items are core to the project, and should be taught in-depth if not already covered\n",
    "- (++) Two mark items are broader topics, but are important for the project\n",
    "- (+) One mark items are relevant, but either optional or advanced and are not core to the project\n",
    "\n",
    "## Getting Started\n",
    "Most of the getting started examples are simple and will work on a web-based compiler,\n",
    "but to get the most out of your programs [install an IDE](https://www.learncpp.com/cpp-tutorial/installing-an-integrated-development-environment-ide/) or use a website like [replit](https://replit.com/) that gives your program more complete functionality.\n",
    "\n",
    "## P1: Hello World\n",
    "Make a simple project to print \"Hello, World!\".\n",
    "\n",
    "This project uses the standard library `<iostream>` to print some text.\n",
    "\n",
    "**Teach Alongside**\n",
    "- (+++) Structure of a c++ program\n",
    "- Best practices\n",
    "    - (+++) Not including `using namespace std;`\n",
    "    - (+) `\\n` vs `std::endl`\n",
    "- (++) Troubleshooting your program\n",
    "- (+) Streams and the `<<` operator"
   ]
  },
  {
   "cell_type": "code",
   "execution_count": null,
   "metadata": {
    "vscode": {
     "languageId": "cpp"
    }
   },
   "outputs": [],
   "source": [
    "#include <iostream>\n",
    "\n",
    "int main () {\n",
    "    std::cout << \"Hello, world! \\n\";\n",
    "}"
   ]
  },
  {
   "cell_type": "markdown",
   "metadata": {},
   "source": []
  }
 ],
 "metadata": {
  "language_info": {
   "name": "python"
  },
  "orig_nbformat": 4
 },
 "nbformat": 4,
 "nbformat_minor": 2
}
